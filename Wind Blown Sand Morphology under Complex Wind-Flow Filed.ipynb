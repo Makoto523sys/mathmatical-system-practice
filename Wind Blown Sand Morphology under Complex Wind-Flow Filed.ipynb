{
 "cells": [
  {
   "cell_type": "code",
   "execution_count": null,
   "metadata": {},
   "outputs": [],
   "source": [
    "import matplotlib as pyplot\n",
    "import numpy as np\n",
    "import random as rand\n",
    "\n",
    "class parameter:\n",
    "    t = 0.0\n",
    "    dt = 1e-4\n",
    "    x = 0.0\n",
    "    dx = 2e-2\n",
    "    y = 0.0\n",
    "    dy = 2e-2\n",
    "    Re = [100, 500, 1000]\n",
    "    Er = 1.0e-3\n",
    "    Et\n",
    "    Etr = 1.0e-8\n",
    "    Ew\n",
    "class sand:\n",
    "class air:"
   ]
  },
  {
   "cell_type": "markdown",
   "metadata": {},
   "source": [
    "#### 必要そうな変数.というか登場する変数\n",
    "- 普遍的な奴\n",
    "    - $t$ まぁ常識的に考えれば時間でしょ    \n",
    "    - $\\Delta t$ 1ステップごとに進める時間\n",
    "    - $x$\n",
    "    - $\\Delta x$\n",
    "    - $y$\n",
    "    - $\\Delta y$\n",
    "    - $E_r$\n",
    "    - $E_{tr}$\n",
    "    - $E_w$\n",
    "- 風関係\n",
    "    - $u^a_i$ 風の速度\n",
    "    - $u_c$ 砂がジャンプするギリギリの風速(論文では0.2m/sに設定されてる)\n",
    "    - $p$ pressureってあるから圧力でええのかな\n",
    "    - $\\mathrm{Re}$ レイノルズ数. 相対的な大きさを殺せる値らしい\n",
    "    - $\\rho$ 密度\n",
    "    - $U$ 基準速度次元 $\\leftarrow$ は?\n",
    "    - $\\rho_a$ 空気の密度\n",
    "- 砂関係\n",
    "    - $\\chi^o_i$ 初期の位置エネルギー\n",
    "    - $u^s_i$ 砂の速度\n",
    "    - $a^s_i$ 砂の加速度\n",
    "    - $g^s_i$ 砂の重力\n",
    "    - $L_i$ 風で砂が飛ぶ距離\n",
    "    - $l_0$ 砂がジャンプする基本距離\n",
    "    - $h$ 粒子の位置の高さ\n",
    "    - $m_s$ 砂の平均質量\n",
    "    - $d_s$ 砂の平均直径\n",
    "    - $\\lambda$ 粒子形状係数(ざっくり考えるなら,1に近いほど球面である)\n",
    "    - $\\rho_s$ 砂の密度\n",
    "    - $C_D$ 抵抗係数(簡単に言うなら流れにくさ.でかいほど流れにくい)"
   ]
  },
  {
   "cell_type": "code",
   "execution_count": 5,
   "metadata": {},
   "outputs": [
    {
     "name": "stdout",
     "output_type": "stream",
     "text": [
      "1.1   12\n"
     ]
    }
   ],
   "source": []
  },
  {
   "cell_type": "code",
   "execution_count": null,
   "metadata": {},
   "outputs": [],
   "source": []
  }
 ],
 "metadata": {
  "kernelspec": {
   "display_name": "Python 3",
   "language": "python",
   "name": "python3"
  },
  "language_info": {
   "codemirror_mode": {
    "name": "ipython",
    "version": 3
   },
   "file_extension": ".py",
   "mimetype": "text/x-python",
   "name": "python",
   "nbconvert_exporter": "python",
   "pygments_lexer": "ipython3",
   "version": "3.7.4"
  }
 },
 "nbformat": 4,
 "nbformat_minor": 2
}
