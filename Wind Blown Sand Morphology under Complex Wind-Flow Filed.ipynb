{
 "cells": [
  {
   "cell_type": "code",
   "execution_count": null,
   "metadata": {},
   "outputs": [],
   "source": [
    "import matplotlib as pyplot\n",
    "import numpy as np\n",
    "import random as rand\n",
    "\n",
    "class parameter:\n",
    "    def __init__(self):\n",
    "        self.t = 0.0\n",
    "        self.dt = 1e-4\n",
    "        self.x = 0.0\n",
    "        self.dx = 2e-2\n",
    "        self.xlim = 25\n",
    "        self.y = 0.0\n",
    "        self.dy = 2e-2\n",
    "        self.ylim = 25\n",
    "        self.Re = 100#500, 1000\n",
    "        self.Er = 1.0e-3\n",
    "        self.Et\n",
    "        self.Etr = 1.0e-8\n",
    "        self.Ew\n",
    "        self.air_rho = 0.00129\n",
    "        self.sand_rho = 2.65\n",
    "\n",
    "\n",
    "class air:\n",
    "    def __init__(self, p: parameter):\n",
    "        self.u = [[0 for i in range((int(1./p.dx)))] for j in range(int(1./p.dy))]\n",
    "        self.v = [[0 for i in range((int(1./p.dx)))] for j in range(int(1./p.dy))]\n",
    "        self.p = [[0 for i in range((int(1./p.dx)))] for j in range(int(1./p.dy))]\n",
    "        self.u_star = 0.0\n",
    "        self.v_star = 0.0\n",
    "        self.A = 2.0 * (1./p.dx**2 + 1./p.dy**2)\n",
    "        self.B = 0.0\n",
    "        self.P = 0.0\n",
    "    \n",
    "    def setup(self):\n",
    "        \n",
    "    \n",
    "    def MAC(self, p:parameter):\n",
    "        p.t += p.dt\n",
    "        for j in range(1, p.ylim - 1):\n",
    "            for i in range(1, p.xlim - 1):\n",
    "                self.u_star = u[j][i] - p.dt*(u[j][i] * (u[j][i+1] - u[j][i-1])/(2*p.dx) +\\\n",
    "                                             (v[j-1][i] + v[j][i] + v[j-1][i+1] + v[j][i+1])/4.0 * \\\n",
    "                                             (u[j+1][i] - u[j-1][i]) /(2*p.dy) -\\\n",
    "                                             1./p.Re * ((u[j][i+1] - 2 * u[j][i] + u[j][i-1]) / p.dx**2 + \\\n",
    "                                                       (u[j+1][i] - 2*u[j][i] + u[j-1][i])/p.dy**2))\n",
    "                self.v_star = v[j][i] - p.dt*(v[j][i] * (v[j+1][i] - v[j-1][i])/(2*p.dy) +\\\n",
    "                                             (u[j-1][i] + u[j][i] + u[j-1][i+1] + u[j][i+1])/4.0 * \\\n",
    "                                             (v[j][i+1] - v[j][i-1])/(2*p.dx) -\\\n",
    "                                             1./p.Re * ((v[j][i+1] - 2 * v[j][i] + u[j][i-1])/p.dx**2 +\\\n",
    "                                                       (v[j+1][i] -2*v[j][i] + v[j-1][i])/p.dy**2))\n",
    "                \n",
    "                self.B      = p.air_rho / p.dt * ((self.u_star[j][i+1] - self.u_star[j][i-1])/p.dx +\\\n",
    "                                                 (self.v_star[j+1][i] - self.v_star[j-1][i]) /p.dy)\n",
    "                "
   ]
  }
 ],
 "metadata": {
  "kernelspec": {
   "display_name": "Python 3",
   "language": "python",
   "name": "python3"
  },
  "language_info": {
   "codemirror_mode": {
    "name": "ipython",
    "version": 3
   },
   "file_extension": ".py",
   "mimetype": "text/x-python",
   "name": "python",
   "nbconvert_exporter": "python",
   "pygments_lexer": "ipython3",
   "version": "3.7.4"
  }
 },
 "nbformat": 4,
 "nbformat_minor": 2
}
